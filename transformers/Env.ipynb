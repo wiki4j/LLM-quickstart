{
 "cells": [
  {
   "cell_type": "raw",
   "id": "22cdf14d-5e44-40b1-b3ee-372e024096dc",
   "metadata": {},
   "source": [
    "/etc/docker/daemon.json:\n",
    "{\n",
    "    \"runtimes\": {\n",
    "        \"nvidia\": {\n",
    "            \"args\": [],\n",
    "            \"path\": \"nvidia-container-runtime\"\n",
    "        }\n",
    "    }\n",
    "}\n",
    "dokcer-compose.yml:\n",
    "  jupyter:\n",
    "    <<: [*service-share]\n",
    "    image: jupyter/tensorflow-notebook:python-3.11\n",
    "    deploy:\n",
    "     resources:\n",
    "       reservations:\n",
    "         devices:\n",
    "           - driver: nvidia\n",
    "             count: 1\n",
    "             capabilities: [gpu]\n",
    "    environment:\n",
    "      http_proxy: http://gost:18888\n",
    "      https_proxy: http://gost:18888\n",
    "    volumes:\n",
    "    - ./data/jupyter:/home/jovyan"
   ]
  },
  {
   "cell_type": "code",
   "execution_count": null,
   "id": "8ac335e2-b9f4-46dc-8efb-bfdaf743fc20",
   "metadata": {},
   "outputs": [],
   "source": [
    "!pip install -r ../requirements.txt -i https://mirrors.aliyun.com/pypi/simple/"
   ]
  },
  {
   "cell_type": "code",
   "execution_count": null,
   "id": "ddaa0ba1-6e1c-44bc-a68f-ddb798dc6cb6",
   "metadata": {},
   "outputs": [],
   "source": []
  }
 ],
 "metadata": {
  "kernelspec": {
   "display_name": "Python 3 (ipykernel)",
   "language": "python",
   "name": "python3"
  },
  "language_info": {
   "codemirror_mode": {
    "name": "ipython",
    "version": 3
   },
   "file_extension": ".py",
   "mimetype": "text/x-python",
   "name": "python",
   "nbconvert_exporter": "python",
   "pygments_lexer": "ipython3",
   "version": "3.11.6"
  }
 },
 "nbformat": 4,
 "nbformat_minor": 5
}
